{
 "cells": [
  {
   "cell_type": "markdown",
   "metadata": {},
   "source": [
    "## First neural network with keras"
   ]
  },
  {
   "cell_type": "code",
   "execution_count": 1,
   "metadata": {},
   "outputs": [
    {
     "name": "stderr",
     "output_type": "stream",
     "text": [
      "Using TensorFlow backend.\n"
     ]
    }
   ],
   "source": [
    "from numpy import loadtxt\n",
    "from keras.models import Sequential\n",
    "from keras.layers import Dense"
   ]
  },
  {
   "cell_type": "markdown",
   "metadata": {},
   "source": [
    "## Load the Dataset"
   ]
  },
  {
   "cell_type": "code",
   "execution_count": 2,
   "metadata": {},
   "outputs": [],
   "source": [
    "dataset = loadtxt('data/pima-indians-diabetes.csv', delimiter=',')"
   ]
  },
  {
   "cell_type": "markdown",
   "metadata": {},
   "source": [
    "## Split into input(X) and output(y) variables"
   ]
  },
  {
   "cell_type": "code",
   "execution_count": 3,
   "metadata": {},
   "outputs": [],
   "source": [
    "X = dataset[:,0:8]\n",
    "y = dataset[:,8]"
   ]
  },
  {
   "cell_type": "markdown",
   "metadata": {},
   "source": [
    "## Define the keras model"
   ]
  },
  {
   "cell_type": "code",
   "execution_count": 4,
   "metadata": {},
   "outputs": [],
   "source": [
    "model = Sequential()\n",
    "model.add(Dense(12, input_dim=8, activation='relu'))\n",
    "model.add(Dense(8, activation='relu'))\n",
    "model.add(Dense(1, activation='sigmoid'))"
   ]
  },
  {
   "cell_type": "markdown",
   "metadata": {},
   "source": [
    "## Compile the keras model"
   ]
  },
  {
   "cell_type": "code",
   "execution_count": 5,
   "metadata": {},
   "outputs": [],
   "source": [
    "model.compile(loss='binary_crossentropy', optimizer='adam', metrics=['accuracy'])"
   ]
  },
  {
   "cell_type": "markdown",
   "metadata": {},
   "source": [
    "## Fit the keras model on the dataset"
   ]
  },
  {
   "cell_type": "code",
   "execution_count": 6,
   "metadata": {},
   "outputs": [
    {
     "name": "stdout",
     "output_type": "stream",
     "text": [
      "Epoch 1/150\n",
      "768/768 [==============================] - 0s 470us/step - loss: 19.1435 - accuracy: 0.3958\n",
      "Epoch 2/150\n",
      "768/768 [==============================] - 0s 188us/step - loss: 4.0350 - accuracy: 0.5404\n",
      "Epoch 3/150\n",
      "768/768 [==============================] - 0s 194us/step - loss: 1.8190 - accuracy: 0.6354\n",
      "Epoch 4/150\n",
      "768/768 [==============================] - 0s 191us/step - loss: 1.3468 - accuracy: 0.6328\n",
      "Epoch 5/150\n",
      "768/768 [==============================] - 0s 184us/step - loss: 1.1149 - accuracy: 0.6094\n",
      "Epoch 6/150\n",
      "768/768 [==============================] - 0s 188us/step - loss: 0.9698 - accuracy: 0.6237\n",
      "Epoch 7/150\n",
      "768/768 [==============================] - 0s 198us/step - loss: 0.9209 - accuracy: 0.6289\n",
      "Epoch 8/150\n",
      "768/768 [==============================] - 0s 190us/step - loss: 0.9095 - accuracy: 0.6107\n",
      "Epoch 9/150\n",
      "768/768 [==============================] - 0s 188us/step - loss: 0.8531 - accuracy: 0.6302\n",
      "Epoch 10/150\n",
      "768/768 [==============================] - 0s 194us/step - loss: 0.8182 - accuracy: 0.6354\n",
      "Epoch 11/150\n",
      "768/768 [==============================] - 0s 196us/step - loss: 0.7522 - accuracy: 0.6536\n",
      "Epoch 12/150\n",
      "768/768 [==============================] - 0s 182us/step - loss: 0.7460 - accuracy: 0.6380\n",
      "Epoch 13/150\n",
      "768/768 [==============================] - 0s 185us/step - loss: 0.7519 - accuracy: 0.6393\n",
      "Epoch 14/150\n",
      "768/768 [==============================] - 0s 198us/step - loss: 0.6883 - accuracy: 0.6328\n",
      "Epoch 15/150\n",
      "768/768 [==============================] - 0s 189us/step - loss: 0.7003 - accuracy: 0.6484\n",
      "Epoch 16/150\n",
      "768/768 [==============================] - 0s 187us/step - loss: 0.6550 - accuracy: 0.6680\n",
      "Epoch 17/150\n",
      "768/768 [==============================] - 0s 186us/step - loss: 0.6609 - accuracy: 0.6589\n",
      "Epoch 18/150\n",
      "768/768 [==============================] - 0s 187us/step - loss: 0.6611 - accuracy: 0.6458\n",
      "Epoch 19/150\n",
      "768/768 [==============================] - 0s 183us/step - loss: 0.6510 - accuracy: 0.6927\n",
      "Epoch 20/150\n",
      "768/768 [==============================] - 0s 193us/step - loss: 0.6131 - accuracy: 0.6823\n",
      "Epoch 21/150\n",
      "768/768 [==============================] - 0s 184us/step - loss: 0.6334 - accuracy: 0.6836\n",
      "Epoch 22/150\n",
      "768/768 [==============================] - 0s 186us/step - loss: 0.6263 - accuracy: 0.6875\n",
      "Epoch 23/150\n",
      "768/768 [==============================] - 0s 197us/step - loss: 0.6096 - accuracy: 0.7031\n",
      "Epoch 24/150\n",
      "768/768 [==============================] - 0s 194us/step - loss: 0.5993 - accuracy: 0.6992\n",
      "Epoch 25/150\n",
      "768/768 [==============================] - 0s 183us/step - loss: 0.5861 - accuracy: 0.7018\n",
      "Epoch 26/150\n",
      "768/768 [==============================] - 0s 189us/step - loss: 0.5929 - accuracy: 0.7201\n",
      "Epoch 27/150\n",
      "768/768 [==============================] - 0s 187us/step - loss: 0.6022 - accuracy: 0.7122\n",
      "Epoch 28/150\n",
      "768/768 [==============================] - 0s 189us/step - loss: 0.6580 - accuracy: 0.6654\n",
      "Epoch 29/150\n",
      "768/768 [==============================] - 0s 180us/step - loss: 0.5914 - accuracy: 0.7044\n",
      "Epoch 30/150\n",
      "768/768 [==============================] - 0s 194us/step - loss: 0.6185 - accuracy: 0.6979\n",
      "Epoch 31/150\n",
      "768/768 [==============================] - 0s 199us/step - loss: 0.5920 - accuracy: 0.7031\n",
      "Epoch 32/150\n",
      "768/768 [==============================] - 0s 183us/step - loss: 0.5762 - accuracy: 0.6966\n",
      "Epoch 33/150\n",
      "768/768 [==============================] - 0s 184us/step - loss: 0.5699 - accuracy: 0.7201\n",
      "Epoch 34/150\n",
      "768/768 [==============================] - 0s 191us/step - loss: 0.5770 - accuracy: 0.7096\n",
      "Epoch 35/150\n",
      "768/768 [==============================] - 0s 185us/step - loss: 0.5892 - accuracy: 0.7057\n",
      "Epoch 36/150\n",
      "768/768 [==============================] - 0s 181us/step - loss: 0.5840 - accuracy: 0.7096\n",
      "Epoch 37/150\n",
      "768/768 [==============================] - 0s 192us/step - loss: 0.5760 - accuracy: 0.7135\n",
      "Epoch 38/150\n",
      "768/768 [==============================] - 0s 185us/step - loss: 0.6051 - accuracy: 0.7031\n",
      "Epoch 39/150\n",
      "768/768 [==============================] - 0s 201us/step - loss: 0.6026 - accuracy: 0.6992\n",
      "Epoch 40/150\n",
      "768/768 [==============================] - 0s 181us/step - loss: 0.6010 - accuracy: 0.6966\n",
      "Epoch 41/150\n",
      "768/768 [==============================] - 0s 193us/step - loss: 0.5888 - accuracy: 0.7057\n",
      "Epoch 42/150\n",
      "768/768 [==============================] - 0s 185us/step - loss: 0.5595 - accuracy: 0.7318\n",
      "Epoch 43/150\n",
      "768/768 [==============================] - 0s 195us/step - loss: 0.5570 - accuracy: 0.7331\n",
      "Epoch 44/150\n",
      "768/768 [==============================] - 0s 184us/step - loss: 0.6002 - accuracy: 0.7109\n",
      "Epoch 45/150\n",
      "768/768 [==============================] - 0s 185us/step - loss: 0.5617 - accuracy: 0.7214\n",
      "Epoch 46/150\n",
      "768/768 [==============================] - 0s 185us/step - loss: 0.5901 - accuracy: 0.7083\n",
      "Epoch 47/150\n",
      "768/768 [==============================] - 0s 200us/step - loss: 0.5532 - accuracy: 0.7279\n",
      "Epoch 48/150\n",
      "768/768 [==============================] - 0s 192us/step - loss: 0.5711 - accuracy: 0.7214\n",
      "Epoch 49/150\n",
      "768/768 [==============================] - 0s 196us/step - loss: 0.5658 - accuracy: 0.7227\n",
      "Epoch 50/150\n",
      "768/768 [==============================] - 0s 198us/step - loss: 0.5417 - accuracy: 0.7370\n",
      "Epoch 51/150\n",
      "768/768 [==============================] - 0s 225us/step - loss: 0.6462 - accuracy: 0.6875\n",
      "Epoch 52/150\n",
      "768/768 [==============================] - 0s 218us/step - loss: 0.5430 - accuracy: 0.7357\n",
      "Epoch 53/150\n",
      "768/768 [==============================] - 0s 205us/step - loss: 0.5506 - accuracy: 0.7253\n",
      "Epoch 54/150\n",
      "768/768 [==============================] - 0s 193us/step - loss: 0.5531 - accuracy: 0.7305\n",
      "Epoch 55/150\n",
      "768/768 [==============================] - 0s 198us/step - loss: 0.5380 - accuracy: 0.7266\n",
      "Epoch 56/150\n",
      "768/768 [==============================] - 0s 193us/step - loss: 0.5359 - accuracy: 0.7396\n",
      "Epoch 57/150\n",
      "768/768 [==============================] - 0s 183us/step - loss: 0.5541 - accuracy: 0.7174\n",
      "Epoch 58/150\n",
      "768/768 [==============================] - 0s 183us/step - loss: 0.5611 - accuracy: 0.7174\n",
      "Epoch 59/150\n",
      "768/768 [==============================] - 0s 187us/step - loss: 0.5408 - accuracy: 0.7487\n",
      "Epoch 60/150\n",
      "768/768 [==============================] - 0s 195us/step - loss: 0.5358 - accuracy: 0.7409\n",
      "Epoch 61/150\n",
      "768/768 [==============================] - 0s 185us/step - loss: 0.5491 - accuracy: 0.7214\n",
      "Epoch 62/150\n",
      "768/768 [==============================] - 0s 185us/step - loss: 0.5478 - accuracy: 0.7396\n",
      "Epoch 63/150\n",
      "768/768 [==============================] - 0s 184us/step - loss: 0.5476 - accuracy: 0.7383\n",
      "Epoch 64/150\n",
      "768/768 [==============================] - 0s 182us/step - loss: 0.5535 - accuracy: 0.7201\n",
      "Epoch 65/150\n",
      "768/768 [==============================] - 0s 176us/step - loss: 0.5291 - accuracy: 0.7448\n",
      "Epoch 66/150\n",
      "768/768 [==============================] - 0s 191us/step - loss: 0.5385 - accuracy: 0.7318\n",
      "Epoch 67/150\n",
      "768/768 [==============================] - 0s 188us/step - loss: 0.5791 - accuracy: 0.7279\n",
      "Epoch 68/150\n",
      "768/768 [==============================] - 0s 184us/step - loss: 0.5455 - accuracy: 0.7409\n",
      "Epoch 69/150\n",
      "768/768 [==============================] - 0s 185us/step - loss: 0.5359 - accuracy: 0.7266\n",
      "Epoch 70/150\n",
      "768/768 [==============================] - 0s 181us/step - loss: 0.5370 - accuracy: 0.7396\n",
      "Epoch 71/150\n",
      "768/768 [==============================] - 0s 187us/step - loss: 0.5331 - accuracy: 0.7396\n",
      "Epoch 72/150\n",
      "768/768 [==============================] - 0s 186us/step - loss: 0.5407 - accuracy: 0.7500\n",
      "Epoch 73/150\n",
      "768/768 [==============================] - 0s 186us/step - loss: 0.5211 - accuracy: 0.7474\n",
      "Epoch 74/150\n",
      "768/768 [==============================] - 0s 194us/step - loss: 0.5277 - accuracy: 0.7435\n",
      "Epoch 75/150\n",
      "768/768 [==============================] - 0s 195us/step - loss: 0.5257 - accuracy: 0.7357\n",
      "Epoch 76/150\n",
      "768/768 [==============================] - 0s 184us/step - loss: 0.5382 - accuracy: 0.7344\n",
      "Epoch 77/150\n",
      "768/768 [==============================] - 0s 195us/step - loss: 0.5255 - accuracy: 0.7383\n",
      "Epoch 78/150\n",
      "768/768 [==============================] - 0s 193us/step - loss: 0.5102 - accuracy: 0.7539\n",
      "Epoch 79/150\n"
     ]
    },
    {
     "name": "stdout",
     "output_type": "stream",
     "text": [
      "768/768 [==============================] - 0s 187us/step - loss: 0.5299 - accuracy: 0.7539\n",
      "Epoch 80/150\n",
      "768/768 [==============================] - 0s 191us/step - loss: 0.5253 - accuracy: 0.7396\n",
      "Epoch 81/150\n",
      "768/768 [==============================] - 0s 199us/step - loss: 0.5216 - accuracy: 0.7422\n",
      "Epoch 82/150\n",
      "768/768 [==============================] - 0s 202us/step - loss: 0.5159 - accuracy: 0.7474\n",
      "Epoch 83/150\n",
      "768/768 [==============================] - 0s 199us/step - loss: 0.5442 - accuracy: 0.7422\n",
      "Epoch 84/150\n",
      "768/768 [==============================] - 0s 190us/step - loss: 0.5410 - accuracy: 0.7266\n",
      "Epoch 85/150\n",
      "768/768 [==============================] - 0s 191us/step - loss: 0.5108 - accuracy: 0.7461\n",
      "Epoch 86/150\n",
      "768/768 [==============================] - 0s 192us/step - loss: 0.5186 - accuracy: 0.7344\n",
      "Epoch 87/150\n",
      "768/768 [==============================] - 0s 186us/step - loss: 0.5480 - accuracy: 0.7292\n",
      "Epoch 88/150\n",
      "768/768 [==============================] - 0s 186us/step - loss: 0.5341 - accuracy: 0.7383\n",
      "Epoch 89/150\n",
      "768/768 [==============================] - 0s 191us/step - loss: 0.5282 - accuracy: 0.7422\n",
      "Epoch 90/150\n",
      "768/768 [==============================] - 0s 195us/step - loss: 0.5123 - accuracy: 0.7565\n",
      "Epoch 91/150\n",
      "768/768 [==============================] - 0s 183us/step - loss: 0.5300 - accuracy: 0.7500\n",
      "Epoch 92/150\n",
      "768/768 [==============================] - 0s 189us/step - loss: 0.5242 - accuracy: 0.7487\n",
      "Epoch 93/150\n",
      "768/768 [==============================] - 0s 181us/step - loss: 0.5089 - accuracy: 0.7448\n",
      "Epoch 94/150\n",
      "768/768 [==============================] - 0s 188us/step - loss: 0.5443 - accuracy: 0.7305\n",
      "Epoch 95/150\n",
      "768/768 [==============================] - 0s 185us/step - loss: 0.4982 - accuracy: 0.7656\n",
      "Epoch 96/150\n",
      "768/768 [==============================] - 0s 190us/step - loss: 0.5025 - accuracy: 0.7617\n",
      "Epoch 97/150\n",
      "768/768 [==============================] - 0s 183us/step - loss: 0.5093 - accuracy: 0.7643\n",
      "Epoch 98/150\n",
      "768/768 [==============================] - ETA: 0s - loss: 0.5128 - accuracy: 0.75 - 0s 185us/step - loss: 0.5160 - accuracy: 0.7500\n",
      "Epoch 99/150\n",
      "768/768 [==============================] - 0s 190us/step - loss: 0.5307 - accuracy: 0.7422\n",
      "Epoch 100/150\n",
      "768/768 [==============================] - 0s 185us/step - loss: 0.4942 - accuracy: 0.7539\n",
      "Epoch 101/150\n",
      "768/768 [==============================] - 0s 185us/step - loss: 0.4934 - accuracy: 0.7565\n",
      "Epoch 102/150\n",
      "768/768 [==============================] - 0s 196us/step - loss: 0.4952 - accuracy: 0.7656\n",
      "Epoch 103/150\n",
      "768/768 [==============================] - 0s 185us/step - loss: 0.4957 - accuracy: 0.7591\n",
      "Epoch 104/150\n",
      "768/768 [==============================] - 0s 186us/step - loss: 0.4901 - accuracy: 0.7682\n",
      "Epoch 105/150\n",
      "768/768 [==============================] - 0s 188us/step - loss: 0.5149 - accuracy: 0.7474\n",
      "Epoch 106/150\n",
      "768/768 [==============================] - 0s 179us/step - loss: 0.4914 - accuracy: 0.7656\n",
      "Epoch 107/150\n",
      "768/768 [==============================] - 0s 188us/step - loss: 0.5796 - accuracy: 0.7083\n",
      "Epoch 108/150\n",
      "768/768 [==============================] - 0s 187us/step - loss: 0.5124 - accuracy: 0.7591\n",
      "Epoch 109/150\n",
      "768/768 [==============================] - 0s 184us/step - loss: 0.4994 - accuracy: 0.7565\n",
      "Epoch 110/150\n",
      "768/768 [==============================] - 0s 179us/step - loss: 0.5087 - accuracy: 0.7526\n",
      "Epoch 111/150\n",
      "768/768 [==============================] - 0s 188us/step - loss: 0.5500 - accuracy: 0.7357\n",
      "Epoch 112/150\n",
      "768/768 [==============================] - 0s 191us/step - loss: 0.4883 - accuracy: 0.7708\n",
      "Epoch 113/150\n",
      "768/768 [==============================] - 0s 185us/step - loss: 0.5153 - accuracy: 0.7656\n",
      "Epoch 114/150\n",
      "768/768 [==============================] - 0s 184us/step - loss: 0.4985 - accuracy: 0.7604\n",
      "Epoch 115/150\n",
      "768/768 [==============================] - 0s 195us/step - loss: 0.5002 - accuracy: 0.7578\n",
      "Epoch 116/150\n",
      "768/768 [==============================] - 0s 185us/step - loss: 0.5051 - accuracy: 0.7578\n",
      "Epoch 117/150\n",
      "768/768 [==============================] - 0s 195us/step - loss: 0.4976 - accuracy: 0.7656\n",
      "Epoch 118/150\n",
      "768/768 [==============================] - 0s 186us/step - loss: 0.4878 - accuracy: 0.7682\n",
      "Epoch 119/150\n",
      "768/768 [==============================] - 0s 183us/step - loss: 0.5016 - accuracy: 0.7760\n",
      "Epoch 120/150\n",
      "768/768 [==============================] - 0s 185us/step - loss: 0.5047 - accuracy: 0.7526\n",
      "Epoch 121/150\n",
      "768/768 [==============================] - 0s 195us/step - loss: 0.5153 - accuracy: 0.7552\n",
      "Epoch 122/150\n",
      "768/768 [==============================] - 0s 191us/step - loss: 0.5013 - accuracy: 0.7565\n",
      "Epoch 123/150\n",
      "768/768 [==============================] - 0s 188us/step - loss: 0.4865 - accuracy: 0.7604\n",
      "Epoch 124/150\n",
      "768/768 [==============================] - 0s 193us/step - loss: 0.4914 - accuracy: 0.7773\n",
      "Epoch 125/150\n",
      "768/768 [==============================] - 0s 198us/step - loss: 0.4914 - accuracy: 0.7669\n",
      "Epoch 126/150\n",
      "768/768 [==============================] - 0s 195us/step - loss: 0.4962 - accuracy: 0.7734\n",
      "Epoch 127/150\n",
      "768/768 [==============================] - 0s 185us/step - loss: 0.5051 - accuracy: 0.7578\n",
      "Epoch 128/150\n",
      "768/768 [==============================] - ETA: 0s - loss: 0.5050 - accuracy: 0.75 - 0s 183us/step - loss: 0.5021 - accuracy: 0.7552\n",
      "Epoch 129/150\n",
      "768/768 [==============================] - 0s 196us/step - loss: 0.5249 - accuracy: 0.7630\n",
      "Epoch 130/150\n",
      "768/768 [==============================] - 0s 190us/step - loss: 0.4763 - accuracy: 0.7656\n",
      "Epoch 131/150\n",
      "768/768 [==============================] - 0s 209us/step - loss: 0.4916 - accuracy: 0.7565\n",
      "Epoch 132/150\n",
      "768/768 [==============================] - 0s 221us/step - loss: 0.4899 - accuracy: 0.7812\n",
      "Epoch 133/150\n",
      "768/768 [==============================] - 0s 201us/step - loss: 0.5001 - accuracy: 0.7682\n",
      "Epoch 134/150\n",
      "768/768 [==============================] - 0s 199us/step - loss: 0.5241 - accuracy: 0.7604\n",
      "Epoch 135/150\n",
      "768/768 [==============================] - 0s 193us/step - loss: 0.4889 - accuracy: 0.7630\n",
      "Epoch 136/150\n",
      "768/768 [==============================] - 0s 185us/step - loss: 0.4816 - accuracy: 0.7669\n",
      "Epoch 137/150\n",
      "768/768 [==============================] - 0s 196us/step - loss: 0.5119 - accuracy: 0.7435\n",
      "Epoch 138/150\n",
      "768/768 [==============================] - 0s 207us/step - loss: 0.5047 - accuracy: 0.7552\n",
      "Epoch 139/150\n",
      "768/768 [==============================] - 0s 204us/step - loss: 0.4835 - accuracy: 0.7591\n",
      "Epoch 140/150\n",
      "768/768 [==============================] - 0s 192us/step - loss: 0.4902 - accuracy: 0.7695\n",
      "Epoch 141/150\n",
      "768/768 [==============================] - 0s 187us/step - loss: 0.5124 - accuracy: 0.7396\n",
      "Epoch 142/150\n",
      "768/768 [==============================] - 0s 185us/step - loss: 0.4867 - accuracy: 0.7630\n",
      "Epoch 143/150\n",
      "768/768 [==============================] - 0s 194us/step - loss: 0.5040 - accuracy: 0.7630\n",
      "Epoch 144/150\n",
      "768/768 [==============================] - 0s 185us/step - loss: 0.4946 - accuracy: 0.7526\n",
      "Epoch 145/150\n",
      "768/768 [==============================] - 0s 181us/step - loss: 0.5156 - accuracy: 0.7578\n",
      "Epoch 146/150\n",
      "768/768 [==============================] - 0s 177us/step - loss: 0.4728 - accuracy: 0.7786\n",
      "Epoch 147/150\n",
      "768/768 [==============================] - 0s 183us/step - loss: 0.4999 - accuracy: 0.7578\n",
      "Epoch 148/150\n",
      "768/768 [==============================] - 0s 184us/step - loss: 0.4825 - accuracy: 0.7682\n",
      "Epoch 149/150\n",
      "768/768 [==============================] - 0s 188us/step - loss: 0.4778 - accuracy: 0.7773\n",
      "Epoch 150/150\n",
      "768/768 [==============================] - 0s 189us/step - loss: 0.4783 - accuracy: 0.7812\n"
     ]
    },
    {
     "data": {
      "text/plain": [
       "<keras.callbacks.callbacks.History at 0x232a4c194e0>"
      ]
     },
     "execution_count": 6,
     "metadata": {},
     "output_type": "execute_result"
    }
   ],
   "source": [
    "model.fit(X, y, epochs=150, batch_size=10)"
   ]
  },
  {
   "cell_type": "markdown",
   "metadata": {},
   "source": [
    "## Evaluate the keras model"
   ]
  },
  {
   "cell_type": "code",
   "execution_count": 7,
   "metadata": {},
   "outputs": [
    {
     "name": "stdout",
     "output_type": "stream",
     "text": [
      " 32/768 [>.............................] - ETA: 0sERROR! Session/line number was not unique in database. History logging moved to new session 21\n",
      "768/768 [==============================] - 0s 50us/step\n",
      "Accuracy: 77.34\n"
     ]
    }
   ],
   "source": [
    "_, accuracy = model.evaluate(X, y)\n",
    "print('Accuracy: %.2f' % (accuracy*100))"
   ]
  },
  {
   "cell_type": "markdown",
   "metadata": {},
   "source": [
    "## Make class predictions with the model"
   ]
  },
  {
   "cell_type": "code",
   "execution_count": 8,
   "metadata": {},
   "outputs": [
    {
     "name": "stdout",
     "output_type": "stream",
     "text": [
      "[6.0, 148.0, 72.0, 35.0, 0.0, 33.6, 0.627, 50.0] => 0 (expected 1)\n",
      "[1.0, 85.0, 66.0, 29.0, 0.0, 26.6, 0.351, 31.0] => 0 (expected 0)\n",
      "[8.0, 183.0, 64.0, 0.0, 0.0, 23.3, 0.672, 32.0] => 1 (expected 1)\n",
      "[1.0, 89.0, 66.0, 23.0, 94.0, 28.1, 0.167, 21.0] => 0 (expected 0)\n",
      "[0.0, 137.0, 40.0, 35.0, 168.0, 43.1, 2.288, 33.0] => 1 (expected 1)\n"
     ]
    }
   ],
   "source": [
    "predictions = model.predict_classes(X)\n",
    "# summarize the first 5 cases\n",
    "for i in range(5):\n",
    "\tprint('%s => %d (expected %d)' % (X[i].tolist(), predictions[i], y[i]))"
   ]
  },
  {
   "cell_type": "code",
   "execution_count": null,
   "metadata": {},
   "outputs": [],
   "source": []
  },
  {
   "cell_type": "code",
   "execution_count": null,
   "metadata": {},
   "outputs": [],
   "source": []
  }
 ],
 "metadata": {
  "kernelspec": {
   "display_name": "Python 3",
   "language": "python",
   "name": "python3"
  },
  "language_info": {
   "codemirror_mode": {
    "name": "ipython",
    "version": 3
   },
   "file_extension": ".py",
   "mimetype": "text/x-python",
   "name": "python",
   "nbconvert_exporter": "python",
   "pygments_lexer": "ipython3",
   "version": "3.6.13"
  }
 },
 "nbformat": 4,
 "nbformat_minor": 4
}
